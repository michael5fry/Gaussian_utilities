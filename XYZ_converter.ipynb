{
 "cells": [
  {
   "cell_type": "markdown",
   "metadata": {},
   "source": [
    "# Gaussian output xyz converter:\n",
    "\n",
    "## Instructions:\n",
    "\n",
    "1. Generate a Gaussian output file .out (.out files are Reccomended) and with command #p (all should be better for the smooth run of the code)\n",
    "2. assign to the variable the name of the file with the extension (es. HF.out)\n",
    "3. Run the command lines\n",
    "4. expect 2 files"
   ]
  },
  {
   "cell_type": "code",
   "execution_count": 1,
   "metadata": {},
   "outputs": [],
   "source": [
    "import xyz_conv"
   ]
  },
  {
   "cell_type": "code",
   "execution_count": 2,
   "metadata": {},
   "outputs": [
    {
     "name": "stdout",
     "output_type": "stream",
     "text": [
      "TRJ File created\n",
      "The name of the trajectory file is: opt_trj.xyz\n",
      "Local Minima configuration File created\n",
      "The name of Local Minima configuration file is: opt_local-minima.xyz\n",
      "Files produced correctly\n"
     ]
    }
   ],
   "source": [
    "file_name= 'opt.out'\n",
    "xyz_conv.TRJ_creator(file_name) # need for space"
   ]
  },
  {
   "cell_type": "code",
   "execution_count": null,
   "metadata": {},
   "outputs": [],
   "source": []
  }
 ],
 "metadata": {
  "kernelspec": {
   "display_name": "Python 3",
   "language": "python",
   "name": "python3"
  },
  "language_info": {
   "codemirror_mode": {
    "name": "ipython",
    "version": 3
   },
   "file_extension": ".py",
   "mimetype": "text/x-python",
   "name": "python",
   "nbconvert_exporter": "python",
   "pygments_lexer": "ipython3",
   "version": "3.8.3"
  }
 },
 "nbformat": 4,
 "nbformat_minor": 4
}
